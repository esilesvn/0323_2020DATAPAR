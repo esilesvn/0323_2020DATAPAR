{
 "cells": [
  {
   "cell_type": "markdown",
   "metadata": {},
   "source": [
    "# 1st Kata"
   ]
  },
  {
   "cell_type": "markdown",
   "metadata": {},
   "source": [
    "##### Remove All The Marked Elements of a List"
   ]
  },
  {
   "cell_type": "markdown",
   "metadata": {},
   "source": [
    "## 1st solution"
   ]
  },
  {
   "cell_type": "code",
   "execution_count": 172,
   "metadata": {},
   "outputs": [],
   "source": [
    "#Sample\n",
    "integer_list =  [1, 1, 2 ,3 ,1 ,2 ,3 ,4]\n",
    "values_list = [1, 3]"
   ]
  },
  {
   "cell_type": "code",
   "execution_count": 2,
   "metadata": {},
   "outputs": [],
   "source": [
    "class List :\n",
    "    def remove_(self, integer_list, values_list): \n",
    "        \n",
    "        self.integer_list = integer_list\n",
    "        self.values_list = values_list\n",
    "        self.l = []\n",
    "        \n",
    "        for i in self.integer_list :\n",
    "            if i not in self.values_list :\n",
    "                self.l.append(i)\n",
    "    \n",
    "        return self.l      "
   ]
  },
  {
   "cell_type": "code",
   "execution_count": 3,
   "metadata": {},
   "outputs": [
    {
     "data": {
      "text/plain": [
       "[2, 2, 4]"
      ]
     },
     "execution_count": 3,
     "metadata": {},
     "output_type": "execute_result"
    }
   ],
   "source": [
    "l = List()\n",
    "l.remove_(integer_list, values_list)"
   ]
  },
  {
   "cell_type": "markdown",
   "metadata": {},
   "source": [
    "## 2nd solution"
   ]
  },
  {
   "cell_type": "code",
   "execution_count": 4,
   "metadata": {},
   "outputs": [],
   "source": [
    "class List :\n",
    "    def remove_(self, integer_list, values_list):\n",
    "        return [i for i in integer_list if i not in values_list]"
   ]
  },
  {
   "cell_type": "code",
   "execution_count": 5,
   "metadata": {},
   "outputs": [
    {
     "data": {
      "text/plain": [
       "[2, 2, 4]"
      ]
     },
     "execution_count": 5,
     "metadata": {},
     "output_type": "execute_result"
    }
   ],
   "source": [
    "l.remove_(integer_list, values_list)"
   ]
  },
  {
   "cell_type": "markdown",
   "metadata": {},
   "source": [
    "# 2nd Kata"
   ]
  },
  {
   "cell_type": "markdown",
   "metadata": {},
   "source": [
    "#### Method For Counting Total Occurence of Specific Digits"
   ]
  },
  {
   "cell_type": "code",
   "execution_count": null,
   "metadata": {},
   "outputs": [],
   "source": [
    "#Sample\n",
    "\n",
    "#integers_list =  [1, 1, 2 ,3 ,1 ,2 ,3 ,4]\n",
    "#digits_list = [1, 3]\n",
    "\n",
    "integers_list = [-18, -31, 81, -19, 111, -888]\n",
    "digits_list = [1, 8, 4]"
   ]
  },
  {
   "cell_type": "code",
   "execution_count": 30,
   "metadata": {},
   "outputs": [],
   "source": [
    "class List:\n",
    "    def count_spec_digits(self, integers_list, digits_list):\n",
    "        integers = \"\".join(str(i) for i in integers_list)\n",
    "        occurence = [(i,integers.count(str(i))) for i in digits_list]\n",
    "        \n",
    "        return occurence\n",
    "    "
   ]
  },
  {
   "cell_type": "code",
   "execution_count": 31,
   "metadata": {},
   "outputs": [
    {
     "data": {
      "text/plain": [
       "[(1, 7), (8, 5), (4, 0)]"
      ]
     },
     "execution_count": 31,
     "metadata": {},
     "output_type": "execute_result"
    }
   ],
   "source": [
    "l = List()\n",
    "l.count_spec_digits(integers_list, digits_list)"
   ]
  },
  {
   "cell_type": "markdown",
   "metadata": {},
   "source": [
    "# 3rd Kata"
   ]
  },
  {
   "cell_type": "markdown",
   "metadata": {},
   "source": [
    "#### Count the number of occurrences of each character and return it as a list of tuples in order of appearance."
   ]
  },
  {
   "cell_type": "code",
   "execution_count": 32,
   "metadata": {},
   "outputs": [],
   "source": [
    "def ordered_count(input):\n",
    "    \n",
    "    lst = []\n",
    "    for letter in input :\n",
    "        if letter not in lst :\n",
    "            lst.append(letter)\n",
    "\n",
    "    occurence = [(j,input.count(j)) for j in lst]\n",
    "    \n",
    "    return occurence"
   ]
  },
  {
   "cell_type": "code",
   "execution_count": 154,
   "metadata": {},
   "outputs": [
    {
     "data": {
      "text/plain": [
       "[('a', 6), ('b', 2), ('r', 2), ('d', 2), ('c', 1)]"
      ]
     },
     "execution_count": 154,
     "metadata": {},
     "output_type": "execute_result"
    }
   ],
   "source": [
    "ordered_count('abradacadabra')"
   ]
  },
  {
   "cell_type": "markdown",
   "metadata": {},
   "source": [
    "# Merge 3 katas into a class"
   ]
  },
  {
   "cell_type": "code",
   "execution_count": 170,
   "metadata": {},
   "outputs": [],
   "source": [
    "#Need some adjustments\n",
    "\n",
    "class List():\n",
    "    \n",
    "    def __init__(self, integer_list, values_list) :\n",
    "        self.integer_list = integer_list\n",
    "        self.values_list = values_list\n",
    "        self.l = []\n",
    "        self.string_list = string_list\n",
    "        \n",
    "    def remove_(self): \n",
    "        \n",
    "        for i in self.integer_list :\n",
    "            if i not in self.values_list :\n",
    "                self.l.append(i)\n",
    "    \n",
    "        return self.l   \n",
    "   \n",
    "    def count_spec_digits(self):\n",
    "       \n",
    "        integers = \"\".join(str(i) for i in integers_list)\n",
    "        occurence = [(i,integers.count(str(i))) for i in values_list]\n",
    "        \n",
    "        return occurence\n",
    "\n",
    "#Works until this point, need some adjustments with the function bellow :\n",
    "    def ordered_count(self):\n",
    "    \n",
    "        for character in self.l :\n",
    "            if character not in self.l :\n",
    "                self.l.append(letter)\n",
    "    \n",
    "        return [(j,self.count(j)) for j in self.l]"
   ]
  },
  {
   "cell_type": "code",
   "execution_count": 171,
   "metadata": {},
   "outputs": [
    {
     "ename": "TypeError",
     "evalue": "__init__() missing 1 required positional argument: 'values_list'",
     "output_type": "error",
     "traceback": [
      "\u001b[1;31m---------------------------------------------------------------------------\u001b[0m",
      "\u001b[1;31mTypeError\u001b[0m                                 Traceback (most recent call last)",
      "\u001b[1;32m<ipython-input-171-d4e13d3fb6ee>\u001b[0m in \u001b[0;36m<module>\u001b[1;34m\u001b[0m\n\u001b[1;32m----> 1\u001b[1;33m \u001b[0mo\u001b[0m \u001b[1;33m=\u001b[0m \u001b[0mList\u001b[0m\u001b[1;33m(\u001b[0m\u001b[1;34m'Biloute'\u001b[0m\u001b[1;33m)\u001b[0m\u001b[1;33m\u001b[0m\u001b[1;33m\u001b[0m\u001b[0m\n\u001b[0m\u001b[0;32m      2\u001b[0m \u001b[0mo\u001b[0m\u001b[1;33m.\u001b[0m\u001b[0mordered_count\u001b[0m\u001b[1;33m(\u001b[0m\u001b[1;33m)\u001b[0m\u001b[1;33m\u001b[0m\u001b[1;33m\u001b[0m\u001b[0m\n",
      "\u001b[1;31mTypeError\u001b[0m: __init__() missing 1 required positional argument: 'values_list'"
     ]
    }
   ],
   "source": []
  },
  {
   "cell_type": "code",
   "execution_count": null,
   "metadata": {},
   "outputs": [],
   "source": []
  }
 ],
 "metadata": {
  "kernelspec": {
   "display_name": "Python 3",
   "language": "python",
   "name": "python3"
  },
  "language_info": {
   "codemirror_mode": {
    "name": "ipython",
    "version": 3
   },
   "file_extension": ".py",
   "mimetype": "text/x-python",
   "name": "python",
   "nbconvert_exporter": "python",
   "pygments_lexer": "ipython3",
   "version": "3.8.2"
  }
 },
 "nbformat": 4,
 "nbformat_minor": 4
}
